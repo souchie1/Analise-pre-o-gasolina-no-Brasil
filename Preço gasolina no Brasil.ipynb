{
 "cells": [
  {
   "cell_type": "code",
   "execution_count": null,
   "id": "e9f1f0cc",
   "metadata": {},
   "outputs": [],
   "source": [
    "import pandas as pd\n",
    "import numpy as np\n",
    "import plotly as px\n",
    "import matplotlib.pyplot as plt\n",
    "import plotly.graph_objects as go\n"
   ]
  },
  {
   "cell_type": "code",
   "execution_count": null,
   "id": "8edfe562",
   "metadata": {},
   "outputs": [],
   "source": [
    "df = pd.read_csv(r'C:\\Users\\Luciane\\Downloads\\analise-precos-gasolina\\gasolina_2010+.csv')"
   ]
  },
  {
   "cell_type": "code",
   "execution_count": null,
   "id": "8aec565a",
   "metadata": {},
   "outputs": [],
   "source": [
    "df.head()"
   ]
  },
  {
   "cell_type": "code",
   "execution_count": null,
   "id": "3125a64c",
   "metadata": {},
   "outputs": [],
   "source": [
    "df = df.drop('Unnamed: 0', axis=1, errors='ignore')"
   ]
  },
  {
   "cell_type": "code",
   "execution_count": null,
   "id": "6e7068c9",
   "metadata": {},
   "outputs": [],
   "source": [
    "df.head()"
   ]
  },
  {
   "cell_type": "code",
   "execution_count": null,
   "id": "42fc52e7",
   "metadata": {
    "scrolled": true
   },
   "outputs": [],
   "source": [
    "df.tail()"
   ]
  },
  {
   "cell_type": "code",
   "execution_count": null,
   "id": "3c8120e0",
   "metadata": {},
   "outputs": [],
   "source": [
    "df.shape"
   ]
  },
  {
   "cell_type": "code",
   "execution_count": null,
   "id": "0a217cf2",
   "metadata": {},
   "outputs": [],
   "source": [
    "df.info()"
   ]
  },
  {
   "cell_type": "code",
   "execution_count": null,
   "id": "935b8b6f",
   "metadata": {},
   "outputs": [],
   "source": [
    "df.isnull().sum()"
   ]
  },
  {
   "cell_type": "code",
   "execution_count": null,
   "id": "920a674d",
   "metadata": {},
   "outputs": [],
   "source": [
    "df.isna().sum()"
   ]
  },
  {
   "cell_type": "code",
   "execution_count": null,
   "id": "b92628eb",
   "metadata": {},
   "outputs": [],
   "source": [
    "df.columns"
   ]
  },
  {
   "cell_type": "code",
   "execution_count": null,
   "id": "fce7a0ac",
   "metadata": {},
   "outputs": [],
   "source": [
    "colunas_para_verificar = ['DATA INICIAL', 'DATA FINAL', 'REGIÃO', 'ESTADO', 'PRODUTO',\n",
    "                           'NÚMERO DE POSTOS PESQUISADOS', 'UNIDADE DE MEDIDA',\n",
    "                           'PREÇO MÉDIO REVENDA', 'DESVIO PADRÃO REVENDA', 'PREÇO MÍNIMO REVENDA',\n",
    "                           'PREÇO MÁXIMO REVENDA', 'MARGEM MÉDIA REVENDA',\n",
    "                           'COEF DE VARIAÇÃO REVENDA', 'PREÇO MÉDIO DISTRIBUIÇÃO',\n",
    "                           'DESVIO PADRÃO DISTRIBUIÇÃO', 'PREÇO MÍNIMO DISTRIBUIÇÃO',\n",
    "                           'PREÇO MÁXIMO DISTRIBUIÇÃO', 'COEF DE VARIAÇÃO DISTRIBUIÇÃO']\n",
    "\n",
    "# Verifica se algum valor nas colunas é igual a '-99999.0'\n",
    "valores_encontrados = df.isin(['-99999.0']).any()\n",
    "\n",
    "# Mostra quais colunas têm o valor '-99999.0'\n",
    "colunas_com_valores_encontrados = valores_encontrados[valores_encontrados].index.tolist()\n",
    "\n",
    "if colunas_com_valores_encontrados:\n",
    "    print(f\"Valores '-99999.0' encontrados nas seguintes colunas: {colunas_com_valores_encontrados}\")\n",
    "else:\n",
    "    print(\"Nenhum valor '-99999.0' encontrado nas colunas especificadas.\")\n"
   ]
  },
  {
   "cell_type": "code",
   "execution_count": null,
   "id": "0989cc45",
   "metadata": {},
   "outputs": [],
   "source": [
    "# Lista das colunas que você deseja verificar\n",
    "colunas_para_verificar = ['DATA INICIAL', 'DATA FINAL', 'REGIÃO', 'ESTADO', 'PRODUTO',\n",
    "                           'NÚMERO DE POSTOS PESQUISADOS', 'UNIDADE DE MEDIDA',\n",
    "                           'PREÇO MÉDIO REVENDA', 'DESVIO PADRÃO REVENDA', 'PREÇO MÍNIMO REVENDA',\n",
    "                           'PREÇO MÁXIMO REVENDA', 'MARGEM MÉDIA REVENDA',\n",
    "                           'COEF DE VARIAÇÃO REVENDA', 'PREÇO MÉDIO DISTRIBUIÇÃO',\n",
    "                           'DESVIO PADRÃO DISTRIBUIÇÃO', 'PREÇO MÍNIMO DISTRIBUIÇÃO',\n",
    "                           'PREÇO MÁXIMO DISTRIBUIÇÃO', 'COEF DE VARIAÇÃO DISTRIBUIÇÃO']\n",
    "\n",
    "# Conta o número de ocorrências de '-99999.0' em cada coluna\n",
    "contagem_por_coluna = (df[colunas_para_verificar] == '-99999.0').sum()\n",
    "\n",
    "# Soma total das ocorrências em todas as colunas\n",
    "total_ocorrencias = contagem_por_coluna.sum()\n",
    "\n",
    "print(f\"Número total de ocorrências de '-99999.0': {total_ocorrencias}\")\n",
    "print(\"Número de ocorrências por coluna:\")\n",
    "print(contagem_por_coluna)"
   ]
  },
  {
   "cell_type": "code",
   "execution_count": null,
   "id": "162fb8e4",
   "metadata": {},
   "outputs": [],
   "source": [
    "# Lista das colunas que você deseja converter\n",
    "colunas_para_converter = ['DATA INICIAL', 'DATA FINAL']\n",
    "\n",
    "# Convertendo as colunas para o formato datetime\n",
    "df[colunas_para_converter] = df[colunas_para_converter].apply(pd.to_datetime, errors='coerce')\n",
    "\n",
    "# Verificando o resultado\n",
    "print(df[['DATA INICIAL', 'DATA FINAL']].dtypes)"
   ]
  },
  {
   "cell_type": "code",
   "execution_count": null,
   "id": "84db8d8c",
   "metadata": {},
   "outputs": [],
   "source": [
    "# Lista das colunas que você deseja converter\n",
    "colunas_para_converter = ['MARGEM MÉDIA REVENDA', 'PREÇO MÉDIO DISTRIBUIÇÃO',\n",
    "                          'DESVIO PADRÃO DISTRIBUIÇÃO', 'PREÇO MÍNIMO DISTRIBUIÇÃO',\n",
    "                          'PREÇO MÁXIMO DISTRIBUIÇÃO', 'COEF DE VARIAÇÃO DISTRIBUIÇÃO']\n",
    "\n",
    "# Convertendo as colunas para o tipo de dados float\n",
    "df[colunas_para_converter] = df[colunas_para_converter].apply(pd.to_numeric, errors='coerce')\n",
    "\n",
    "# Verificando o resultado\n",
    "print(df[colunas_para_converter].dtypes)"
   ]
  },
  {
   "cell_type": "code",
   "execution_count": null,
   "id": "66d3f027",
   "metadata": {},
   "outputs": [],
   "source": [
    "df.isnull().sum()"
   ]
  },
  {
   "cell_type": "code",
   "execution_count": null,
   "id": "ceb7ab05",
   "metadata": {},
   "outputs": [],
   "source": [
    "# Lista das colunas que você deseja preencher\n",
    "colunas_para_preencher = ['MARGEM MÉDIA REVENDA','PREÇO MÉDIO DISTRIBUIÇÃO', 'DESVIO PADRÃO DISTRIBUIÇÃO',\n",
    "                           'PREÇO MÍNIMO DISTRIBUIÇÃO', 'PREÇO MÁXIMO DISTRIBUIÇÃO',\n",
    "                           'COEF DE VARIAÇÃO DISTRIBUIÇÃO']\n",
    "\n",
    "# Preenchendo os valores faltantes com a média de cada respectivo estado\n",
    "df[colunas_para_preencher] = df.groupby('ESTADO')[colunas_para_preencher].transform(lambda x: x.fillna(x.mean()))\n",
    "\n",
    "# Verificando o resultado\n",
    "print(df)\n"
   ]
  },
  {
   "cell_type": "code",
   "execution_count": null,
   "id": "7b805527",
   "metadata": {},
   "outputs": [],
   "source": [
    "df.isnull().sum()"
   ]
  },
  {
   "cell_type": "code",
   "execution_count": null,
   "id": "6df15b72",
   "metadata": {},
   "outputs": [],
   "source": [
    "df['ESTADO'].unique()"
   ]
  },
  {
   "cell_type": "code",
   "execution_count": null,
   "id": "4f62b2cb",
   "metadata": {},
   "outputs": [],
   "source": [
    "df['PRODUTO'].unique()"
   ]
  },
  {
   "cell_type": "code",
   "execution_count": null,
   "id": "844150c9",
   "metadata": {},
   "outputs": [],
   "source": [
    "\n",
    "df_rs = df[df['ESTADO'] == 'RIO GRANDE DO SUL']\n",
    "\n",
    "# Calculando a soma das vendas (ou outra métrica relevante) para cada produto\n",
    "vendas_por_produto = df_rs.groupby('PRODUTO')['NÚMERO DE POSTOS PESQUISADOS'].sum()\n",
    "\n",
    "# Encontrando o produto mais vendido\n",
    "produto_mais_vendido = vendas_por_produto.idxmax()\n",
    "\n",
    "print(f\"O produto mais vendido no Rio Grande do Sul é: {produto_mais_vendido}\")\n"
   ]
  },
  {
   "cell_type": "code",
   "execution_count": null,
   "id": "d01891b5",
   "metadata": {},
   "outputs": [],
   "source": [
    "# Convertendo a coluna 'DATA INICIAL' para o formato datetime\n",
    "df['DATA INICIAL'] = pd.to_datetime(df['DATA INICIAL'], errors='coerce')\n",
    "\n",
    "# Filtrando o DataFrame para incluir apenas entradas do produto 'GLP'\n",
    "df_glp = df[df['PRODUTO'] == 'GLP']\n",
    "\n",
    "# Calculando a quantidade total de GLP vendida durante o período\n",
    "quantidade_total_glp = df_glp['NÚMERO DE POSTOS PESQUISADOS'].sum()\n",
    "\n",
    "print(f\"A quantidade total de GLP vendida durante o período é: {quantidade_total_glp}\")"
   ]
  },
  {
   "cell_type": "code",
   "execution_count": null,
   "id": "9d5d18dd",
   "metadata": {},
   "outputs": [],
   "source": [
    "# Filtrando o DataFrame para incluir apenas entradas do Rio Grande do Sul\n",
    "df_rs = df[df['ESTADO'] == 'RIO GRANDE DO SUL']\n",
    "\n",
    "# Calculando a quantidade total de postos pesquisados por produto\n",
    "vendas_por_produto_rs = df_rs.groupby('PRODUTO')['NÚMERO DE POSTOS PESQUISADOS'].sum()\n",
    "\n",
    "# Ordenando em ordem decrescente\n",
    "vendas_por_produto_rs = vendas_por_produto_rs.sort_values(ascending=False)\n",
    "\n",
    "# Exibindo o resultado\n",
    "print(\"Produtos vendidos no Rio Grande do Sul em ordem decrescente:\")\n",
    "print(vendas_por_produto_rs)"
   ]
  },
  {
   "cell_type": "code",
   "execution_count": null,
   "id": "e2f78a81",
   "metadata": {},
   "outputs": [],
   "source": [
    "df.describe"
   ]
  },
  {
   "cell_type": "code",
   "execution_count": null,
   "id": "a5e8147f",
   "metadata": {},
   "outputs": [],
   "source": [
    "# Lista das colunas para análise\n",
    "colunas_para_analise = ['PREÇO MÉDIO REVENDA', 'DESVIO PADRÃO REVENDA', 'PREÇO MÍNIMO REVENDA', 'PREÇO MÁXIMO REVENDA', 'MARGEM MÉDIA REVENDA', 'COEF DE VARIAÇÃO REVENDA',\n",
    "                        'PREÇO MÉDIO DISTRIBUIÇÃO', 'DESVIO PADRÃO DISTRIBUIÇÃO', 'PREÇO MÍNIMO DISTRIBUIÇÃO', 'PREÇO MÁXIMO DISTRIBUIÇÃO', 'COEF DE VARIAÇÃO DISTRIBUIÇÃO']\n",
    "\n",
    "# Convertendo as colunas para o tipo de dados float\n",
    "df[colunas_para_analise] = df[colunas_para_analise].apply(pd.to_numeric, errors='coerce')\n",
    "\n",
    "# Descrição estatística\n",
    "descricao_estatistica = df[colunas_para_analise].describe()\n",
    "\n",
    "# Exibindo a descrição estatística\n",
    "print(descricao_estatistica)"
   ]
  },
  {
   "cell_type": "code",
   "execution_count": null,
   "id": "dabe32df",
   "metadata": {},
   "outputs": [],
   "source": [
    "# Filtrando o DataFrame para incluir apenas entradas do Rio Grande do Sul\n",
    "df_rs = df[df['ESTADO'] == 'RIO GRANDE DO SUL']\n",
    "\n",
    "# Lista das colunas para análise\n",
    "colunas_para_analise = ['PREÇO MÉDIO REVENDA', 'DESVIO PADRÃO REVENDA', 'PREÇO MÍNIMO REVENDA', 'PREÇO MÁXIMO REVENDA', 'MARGEM MÉDIA REVENDA', 'COEF DE VARIAÇÃO REVENDA',\n",
    "                        'PREÇO MÉDIO DISTRIBUIÇÃO', 'DESVIO PADRÃO DISTRIBUIÇÃO', 'PREÇO MÍNIMO DISTRIBUIÇÃO', 'PREÇO MÁXIMO DISTRIBUIÇÃO', 'COEF DE VARIAÇÃO DISTRIBUIÇÃO']\n",
    "\n",
    "# Convertendo as colunas para o tipo de dados float\n",
    "df_rs[colunas_para_analise] = df_rs[colunas_para_analise].apply(pd.to_numeric, errors='coerce')\n",
    "\n",
    "# Descrição estatística para o Rio Grande do Sul\n",
    "descricao_estatistica_rs = df_rs[colunas_para_analise].describe()\n",
    "\n",
    "# Exibindo a descrição estatística\n",
    "print(descricao_estatistica_rs)"
   ]
  },
  {
   "cell_type": "code",
   "execution_count": null,
   "id": "9fd119c5",
   "metadata": {},
   "outputs": [],
   "source": [
    "df_rs = df[df['ESTADO'] == 'RIO GRANDE DO SUL']\n",
    "\n",
    "# Lista das colunas para análise\n",
    "colunas_para_analise = ['PREÇO MÉDIO REVENDA', 'DESVIO PADRÃO REVENDA', 'PREÇO MÍNIMO REVENDA', 'PREÇO MÁXIMO REVENDA', 'MARGEM MÉDIA REVENDA', 'COEF DE VARIAÇÃO REVENDA',\n",
    "                        'PREÇO MÉDIO DISTRIBUIÇÃO', 'DESVIO PADRÃO DISTRIBUIÇÃO', 'PREÇO MÍNIMO DISTRIBUIÇÃO', 'PREÇO MÁXIMO DISTRIBUIÇÃO', 'COEF DE VARIAÇÃO DISTRIBUIÇÃO']\n",
    "\n",
    "# Convertendo as colunas para o tipo de dados float\n",
    "df_rs[colunas_para_analise] = df_rs[colunas_para_analise].apply(pd.to_numeric, errors='coerce')\n",
    "\n",
    "# Matriz de correlação para o Rio Grande do Sul\n",
    "matriz_correlacao_rs = df_rs[colunas_para_analise].corr()\n",
    "\n",
    "# Exibindo a matriz de correlação\n",
    "print(matriz_correlacao_rs)"
   ]
  },
  {
   "cell_type": "code",
   "execution_count": null,
   "id": "440b0f05",
   "metadata": {},
   "outputs": [],
   "source": [
    "# Histogramas\n",
    "df[colunas_para_analise].hist(bins=20, figsize=(15, 10), layout=(3, 4), color='skyblue')\n",
    "plt.suptitle('Histogramas das Colunas', y=1.02)\n",
    "plt.show()\n",
    "\n",
    "# Boxplots\n",
    "plt.figure(figsize=(15, 10))\n",
    "sns.boxplot(data=df[colunas_para_analise], orient='v', palette='Set2')\n",
    "plt.title('Boxplots das Colunas')\n",
    "plt.show()\n",
    "\n",
    "# Scatter Matrix\n",
    "sns.pairplot(df[colunas_para_analise], height=2)\n",
    "plt.suptitle('Scatter Matrix', y=1.02)\n",
    "plt.show()"
   ]
  },
  {
   "cell_type": "code",
   "execution_count": null,
   "id": "7c1f9643",
   "metadata": {},
   "outputs": [],
   "source": [
    "# Filtrando o DataFrame para incluir apenas entradas do Rio Grande do Sul\n",
    "df_rs = df[df['ESTADO'] == 'RIO GRANDE DO SUL']\n",
    "\n",
    "# Lista das colunas de preço para análise\n",
    "colunas_de_preco = ['PREÇO MÉDIO REVENDA']\n",
    "\n",
    "# Convertendo as colunas para o tipo de dados float\n",
    "df_rs[colunas_de_preco] = df_rs[colunas_de_preco].apply(pd.to_numeric, errors='coerce')\n",
    "\n",
    "# Calculando o preço médio para cada produto\n",
    "preco_medio_por_produto = df_rs.groupby('PRODUTO')[colunas_de_preco].mean()\n",
    "\n",
    "# Exibindo o resultado\n",
    "print(preco_medio_por_produto)"
   ]
  },
  {
   "cell_type": "code",
   "execution_count": null,
   "id": "48c5b910",
   "metadata": {},
   "outputs": [],
   "source": [
    "\n",
    "df[colunas_de_preco] = df[colunas_de_preco].apply(pd.to_numeric, errors='coerce')\n",
    "\n",
    "# Calculando os maiores, menores e a média dos valores\n",
    "maior_preco = df[colunas_de_preco].max()\n",
    "menor_preco = df[colunas_de_preco].min()\n",
    "media_preco = df[colunas_de_preco].mean()\n",
    "\n",
    "# Exibindo o resultado\n",
    "print(\"Maior preço:\")\n",
    "print(maior_preco)\n",
    "print(\"\\nMenor preço:\")\n",
    "print(menor_preco)\n",
    "print(\"\\nMédia de preços:\")\n",
    "print(media_preco)"
   ]
  },
  {
   "cell_type": "code",
   "execution_count": null,
   "id": "c5711b28",
   "metadata": {},
   "outputs": [],
   "source": [
    "df.columns"
   ]
  },
  {
   "cell_type": "code",
   "execution_count": null,
   "id": "26df7cdb",
   "metadata": {},
   "outputs": [],
   "source": [
    "# Filtrando o DataFrame para incluir apenas a gasolina comum\n",
    "df_gasolina_comum = df[df['PRODUTO'] == 'GASOLINA COMUM']\n",
    "\n",
    "# Encontrando o primeiro estado e a data em que o preço ultrapassou R$ 5,00\n",
    "primeira_ocorrencia = df_gasolina_comum[df_gasolina_comum['PREÇO MÉDIO REVENDA'] > 5.0].sort_values('DATA INICIAL').iloc[0]\n",
    "\n",
    "# Exibindo o resultado\n",
    "print(\"Primeiro estado onde a gasolina comum ultrapassou R$ 5,00:\")\n",
    "print(primeira_ocorrencia['ESTADO'])\n",
    "print(\"Data Inicial:\")\n",
    "print(primeira_ocorrencia['DATA INICIAL'])"
   ]
  },
  {
   "cell_type": "code",
   "execution_count": null,
   "id": "38c2f402",
   "metadata": {},
   "outputs": [],
   "source": [
    "primeira_ocorrencia"
   ]
  },
  {
   "cell_type": "code",
   "execution_count": null,
   "id": "5b8b6496",
   "metadata": {},
   "outputs": [],
   "source": [
    "# Filtrando o DataFrame para incluir apenas a gasolina comum\n",
    "df_gasolina_comum = df[df['PRODUTO'] == 'GASOLINA COMUM']\n",
    "\n",
    "# Inicializando um DataFrame vazio para armazenar os resultados\n",
    "primeiras_ocorrencias_por_estado = pd.DataFrame(columns=df.columns)\n",
    "\n",
    "# Iterando sobre cada estado e encontrando a primeira ocorrência em que o preço ultrapassou R$ 5,00\n",
    "for estado in df_gasolina_comum['ESTADO'].unique():\n",
    "    df_estado = df_gasolina_comum[df_gasolina_comum['ESTADO'] == estado]\n",
    "    \n",
    "    # Verificando se há ocorrências antes de tentar acessar o índice\n",
    "    if not df_estado[df_estado['PREÇO MÉDIO REVENDA'] > 5.0].empty:\n",
    "        # Encontrando a primeira ocorrência\n",
    "        primeira_ocorrencia_estado = df_estado[df_estado['PREÇO MÉDIO REVENDA'] > 5.0].sort_values('DATA INICIAL').iloc[0]\n",
    "        \n",
    "        # Adicionando a primeira ocorrência ao DataFrame\n",
    "        primeiras_ocorrencias_por_estado = pd.concat([primeiras_ocorrencias_por_estado, primeira_ocorrencia_estado.to_frame().T])\n",
    "\n",
    "# Exibindo o resultado\n",
    "print(\"Primeiras ocorrências por estado onde a gasolina comum ultrapassou R$ 5,00:\")\n",
    "print(primeiras_ocorrencias_por_estado[['ESTADO', 'DATA INICIAL']])"
   ]
  },
  {
   "cell_type": "code",
   "execution_count": null,
   "id": "0e236d3f",
   "metadata": {},
   "outputs": [],
   "source": [
    "# Filtrando o DataFrame para incluir apenas a gasolina comum\n",
    "df_gasolina_comum = df[df['PRODUTO'] == 'GASOLINA COMUM']\n",
    "\n",
    "# Inicializando um DataFrame vazio para armazenar os resultados\n",
    "primeiras_ocorrencias_por_estado = pd.DataFrame(columns=df.columns)\n",
    "\n",
    "# Iterando sobre cada estado e encontrando a primeira ocorrência em que o preço ultrapassou R$ 5,00\n",
    "for estado in df_gasolina_comum['ESTADO'].unique():\n",
    "    df_estado = df_gasolina_comum[df_gasolina_comum['ESTADO'] == estado]\n",
    "    \n",
    "    # Verificando se há ocorrências antes de tentar acessar o índice\n",
    "    if not df_estado[df_estado['PREÇO MÉDIO REVENDA'] > 5.0].empty:\n",
    "        # Encontrando a primeira ocorrência\n",
    "        primeira_ocorrencia_estado = df_estado[df_estado['PREÇO MÉDIO REVENDA'] > 5.0].sort_values('DATA INICIAL').iloc[0]\n",
    "        \n",
    "        # Adicionando a primeira ocorrência ao DataFrame\n",
    "        primeiras_ocorrencias_por_estado = pd.concat([primeiras_ocorrencias_por_estado, primeira_ocorrencia_estado.to_frame().T])\n",
    "\n",
    "# Criando um gráfico de dispersão com Plotly\n",
    "fig = go.Figure()\n",
    "\n",
    "for estado in primeiras_ocorrencias_por_estado['ESTADO'].unique():\n",
    "    df_estado = primeiras_ocorrencias_por_estado[primeiras_ocorrencias_por_estado['ESTADO'] == estado]\n",
    "    fig.add_trace(go.Scatter(x=df_estado['DATA INICIAL'], y=df_estado['PREÇO MÉDIO REVENDA'],\n",
    "                             mode='markers', name=estado))\n",
    "\n",
    "# Adicionando título e rótulos aos eixos\n",
    "fig.update_layout(title='Relação entre Data e Preço Médio de Revenda da Gasolina Comum (Primeiras ocorrências acima de R$ 5,00 por Estado)',\n",
    "                  xaxis_title='Data Inicial',\n",
    "                  yaxis_title='Preço Médio de Revenda (R$)')\n",
    "\n",
    "# Exibindo o gráfico\n",
    "fig.show()\n",
    "# Filtrando o DataFrame para incluir apenas a gasolina comum\n",
    "df_gasolina_comum = df[df['PRODUTO'] == 'GASOLINA COMUM']\n",
    "\n",
    "# Inicializando um DataFrame vazio para armazenar os resultados\n",
    "primeiras_ocorrencias_por_estado = pd.DataFrame(columns=df.columns)\n",
    "\n",
    "# Iterando sobre cada estado e encontrando a primeira ocorrência em que o preço ultrapassou R$ 5,00\n",
    "for estado in df_gasolina_comum['ESTADO'].unique():\n",
    "    df_estado = df_gasolina_comum[df_gasolina_comum['ESTADO'] == estado]\n",
    "    \n",
    "    # Verificando se há ocorrências antes de tentar acessar o índice\n",
    "    if not df_estado[df_estado['PREÇO MÉDIO REVENDA'] > 5.0].empty:\n",
    "        # Encontrando a primeira ocorrência\n",
    "        primeira_ocorrencia_estado = df_estado[df_estado['PREÇO MÉDIO REVENDA'] > 5.0].sort_values('DATA INICIAL').iloc[0]\n",
    "        \n",
    "        # Adicionando a primeira ocorrência ao DataFrame\n",
    "        primeiras_ocorrencias_por_estado = pd.concat([primeiras_ocorrencias_por_estado, primeira_ocorrencia_estado.to_frame().T])\n",
    "\n",
    "# Criando um gráfico de dispersão com Plotly\n",
    "fig = go.Figure()\n",
    "\n",
    "for estado in primeiras_ocorrencias_por_estado['ESTADO'].unique():\n",
    "    df_estado = primeiras_ocorrencias_por_estado[primeiras_ocorrencias_por_estado['ESTADO'] == estado]\n",
    "    fig.add_trace(go.Scatter(x=df_estado['DATA INICIAL'], y=df_estado['PREÇO MÉDIO REVENDA'],\n",
    "                             mode='markers', name=estado))\n",
    "\n",
    "# Adicionando título e rótulos aos eixos\n",
    "fig.update_layout(title='Relação entre Data e Preço Médio de Revenda da Gasolina Comum (Primeiras ocorrências acima de R$ 5,00 por Estado)',\n",
    "                  xaxis_title='Data Inicial',\n",
    "                  yaxis_title='Preço Médio de Revenda (R$)')\n",
    "\n",
    "# Exibindo o gráfico\n",
    "fig.show()\n",
    "# Filtrando o DataFrame para incluir apenas a gasolina comum\n",
    "df_gasolina_comum = df[df['PRODUTO'] == 'GASOLINA COMUM']\n",
    "\n",
    "# Inicializando um DataFrame vazio para armazenar os resultados\n",
    "primeiras_ocorrencias_por_estado = pd.DataFrame(columns=df.columns)\n",
    "\n",
    "# Iterando sobre cada estado e encontrando a primeira ocorrência em que o preço ultrapassou R$ 5,00\n",
    "for estado in df_gasolina_comum['ESTADO'].unique():\n",
    "    df_estado = df_gasolina_comum[df_gasolina_comum['ESTADO'] == estado]\n",
    "    \n",
    "    # Verificando se há ocorrências antes de tentar acessar o índice\n",
    "    if not df_estado[df_estado['PREÇO MÉDIO REVENDA'] > 5.0].empty:\n",
    "        # Encontrando a primeira ocorrência\n",
    "        primeira_ocorrencia_estado = df_estado[df_estado['PREÇO MÉDIO REVENDA'] > 5.0].sort_values('DATA INICIAL').iloc[0]\n",
    "        \n",
    "        # Adicionando a primeira ocorrência ao DataFrame\n",
    "        primeiras_ocorrencias_por_estado = pd.concat([primeiras_ocorrencias_por_estado, primeira_ocorrencia_estado.to_frame().T])\n",
    "\n",
    "# Criando um gráfico de dispersão com Plotly\n",
    "fig = go.Figure()\n",
    "\n",
    "for estado in primeiras_ocorrencias_por_estado['ESTADO'].unique():\n",
    "    df_estado = primeiras_ocorrencias_por_estado[primeiras_ocorrencias_por_estado['ESTADO'] == estado]\n",
    "    fig.add_trace(go.Scatter(x=df_estado['DATA INICIAL'], y=df_estado['PREÇO MÉDIO REVENDA'],\n",
    "                             mode='markers', name=estado))\n",
    "\n",
    "# Adicionando título e rótulos aos eixos\n",
    "fig.update_layout(title='Relação entre Data e Preço Médio de Revenda da Gasolina Comum (Primeiras ocorrências acima de R$ 5,00 por Estado)',\n",
    "                  xaxis_title='Data Inicial',\n",
    "                  yaxis_title='Preço Médio de Revenda (R$)')\n",
    "\n",
    "# Exibindo o gráfico\n",
    "fig.show()"
   ]
  },
  {
   "cell_type": "code",
   "execution_count": null,
   "id": "cd3aaf34",
   "metadata": {},
   "outputs": [],
   "source": [
    "# Filtrando o DataFrame para incluir apenas a gasolina comum no Rio Grande do Sul\n",
    "df_gasolina_rs = df[(df['PRODUTO'] == 'GASOLINA COMUM') & (df['ESTADO'] == 'RIO GRANDE DO SUL')]\n",
    "\n",
    "# Criando o gráfico de evolução do preço da gasolina comum no Rio Grande do Sul\n",
    "fig = go.Figure()\n",
    "\n",
    "fig.add_trace(go.Scatter(x=df_gasolina_rs['DATA INICIAL'], y=df_gasolina_rs['PREÇO MÉDIO REVENDA'],\n",
    "                         mode='lines+markers', name='Preço Médio Revenda'))\n",
    "\n",
    "# Adicionando título e rótulos aos eixos\n",
    "fig.update_layout(title='Evolução do Preço da Gasolina Comum no Rio Grande do Sul',\n",
    "                  xaxis_title='Data Inicial',\n",
    "                  yaxis_title='Preço Médio de Revenda (R$)')\n",
    "\n",
    "# Exibindo o gráfico\n",
    "fig.show()"
   ]
  },
  {
   "cell_type": "code",
   "execution_count": null,
   "id": "1c4fe031",
   "metadata": {},
   "outputs": [],
   "source": [
    "# Filtrando o DataFrame para incluir apenas a gasolina comum\n",
    "df_gasolina_comum = df[df['PRODUTO'] == 'GASOLINA COMUM']\n",
    "\n",
    "# Calculando a média geral do preço da gasolina comum no período\n",
    "media_geral_gasolina_comum = df_gasolina_comum['PREÇO MÉDIO REVENDA'].mean()\n",
    "\n",
    "# Exibindo a média geral\n",
    "print(f\"Média Geral do Preço da Gasolina Comum no Período: R${media_geral_gasolina_comum:.2f}\")"
   ]
  },
  {
   "cell_type": "code",
   "execution_count": null,
   "id": "b7f8d379",
   "metadata": {},
   "outputs": [],
   "source": [
    "# Filtrando o DataFrame para incluir apenas a gasolina comum no Rio Grande do Sul\n",
    "df_gasolina_rs = df[(df['PRODUTO'] == 'GASOLINA COMUM') & (df['ESTADO'] == 'RIO GRANDE DO SUL')]\n",
    "\n",
    "# Calculando a média geral do preço da gasolina comum no período\n",
    "media_geral_gasolina_comum = df[df['PRODUTO'] == 'GASOLINA COMUM']['PREÇO MÉDIO REVENDA'].mean()\n",
    "\n",
    "# Criando o gráfico de comparativo\n",
    "fig = go.Figure()\n",
    "\n",
    "# Adicionando a linha da média geral\n",
    "fig.add_trace(go.Scatter(x=df_gasolina_rs['DATA INICIAL'], y=[media_geral_gasolina_comum]*len(df_gasolina_rs),\n",
    "                         mode='lines', name='Média Geral', line=dict(color='black', dash='dash')))\n",
    "\n",
    "# Adicionando a linha do preço no Rio Grande do Sul\n",
    "fig.add_trace(go.Scatter(x=df_gasolina_rs['DATA INICIAL'], y=df_gasolina_rs['PREÇO MÉDIO REVENDA'],\n",
    "                         mode='lines+markers', name='Preço no RS'))\n",
    "\n",
    "# Adicionando título e rótulos aos eixos\n",
    "fig.update_layout(title='Comparativo do Preço da Gasolina Comum no Rio Grande do Sul em relação à Média Geral',\n",
    "                  xaxis_title='Data Inicial',\n",
    "                  yaxis_title='Preço Médio de Revenda (R$)')\n",
    "\n",
    "# Exibindo o gráfico\n",
    "fig.show()"
   ]
  },
  {
   "cell_type": "code",
   "execution_count": null,
   "id": "4ff23a73",
   "metadata": {},
   "outputs": [],
   "source": [
    "# Filtrando o DataFrame para incluir apenas a gasolina comum\n",
    "df_gasolina_comum = df[df['PRODUTO'] == 'GASOLINA COMUM']\n",
    "\n",
    "# Encontrando a entrada com o preço mais alto da gasolina comum\n",
    "entrada_mais_alta = df_gasolina_comum[df_gasolina_comum['PREÇO MÉDIO REVENDA'] == df_gasolina_comum['PREÇO MÉDIO REVENDA'].max()]\n",
    "\n",
    "# Exibindo o estado e o valor mais alto\n",
    "estado_mais_alto = entrada_mais_alta['ESTADO'].values[0]\n",
    "valor_mais_alto = entrada_mais_alta['PREÇO MÉDIO REVENDA'].values[0]\n",
    "\n",
    "print(f\"Estado que praticou o valor mais alto da gasolina comum no período: {estado_mais_alto}\")\n",
    "print(f\"Valor mais alto: R${valor_mais_alto:.2f}\")"
   ]
  },
  {
   "cell_type": "code",
   "execution_count": null,
   "id": "786d4ae7",
   "metadata": {},
   "outputs": [],
   "source": [
    "# Filtrando o DataFrame para incluir apenas a gasolina comum\n",
    "df_gasolina_comum = df[df['PRODUTO'] == 'GASOLINA COMUM']\n",
    "\n",
    "# Encontrando a entrada com o preço mais baixo da gasolina comum\n",
    "entrada_mais_baixa = df_gasolina_comum[df_gasolina_comum['PREÇO MÉDIO REVENDA'] == df_gasolina_comum['PREÇO MÉDIO REVENDA'].min()]\n",
    "\n",
    "# Exibindo o estado e o valor mais baixo\n",
    "estado_mais_baixo = entrada_mais_baixa['ESTADO'].values[0]\n",
    "valor_mais_baixo = entrada_mais_baixa['PREÇO MÉDIO REVENDA'].values[0]\n",
    "\n",
    "print(f\"Estado que praticou o menor valor da gasolina comum no período: {estado_mais_baixo}\")\n",
    "print(f\"Menor valor: R${valor_mais_baixo:.2f}\")"
   ]
  },
  {
   "cell_type": "code",
   "execution_count": null,
   "id": "a7e289c9",
   "metadata": {},
   "outputs": [],
   "source": [
    "# Filtrando o DataFrame para incluir apenas a gasolina comum\n",
    "df_gasolina_comum = df[df['PRODUTO'] == 'GASOLINA COMUM']\n",
    "\n",
    "# Encontrando os estados que praticaram os valores mais altos\n",
    "estados_mais_altos = df_gasolina_comum.groupby('ESTADO')['PREÇO MÉDIO REVENDA'].max()\n",
    "\n",
    "# Criando o gráfico\n",
    "fig = go.Figure()\n",
    "\n",
    "# Adicionando barras para cada estado\n",
    "fig.add_trace(go.Bar(x=estados_mais_altos.index, y=estados_mais_altos.values, \n",
    "                     text=estados_mais_altos.values, textposition='outside',\n",
    "                     marker=dict(color='skyblue')))\n",
    "\n",
    "# Adicionando título e rótulos aos eixos\n",
    "fig.update_layout(title='Estados que Praticaram os Valores Mais Altos da Gasolina Comum',\n",
    "                  xaxis_title='Estado',\n",
    "                  yaxis_title='Preço Médio de Revenda (R$)')\n",
    "\n",
    "# Exibindo o gráfico\n",
    "fig.show()"
   ]
  },
  {
   "cell_type": "code",
   "execution_count": null,
   "id": "f11f698c",
   "metadata": {},
   "outputs": [],
   "source": [
    "# Filtrando o DataFrame para incluir apenas a gasolina comum\n",
    "df_gasolina_comum = df[df['PRODUTO'] == 'GASOLINA COMUM']\n",
    "\n",
    "# Encontrando os estados que praticaram os valores mais baixos\n",
    "estados_mais_baixos = df_gasolina_comum.groupby('ESTADO')['PREÇO MÉDIO REVENDA'].min()\n",
    "\n",
    "# Criando o gráfico\n",
    "fig = go.Figure()\n",
    "\n",
    "# Adicionando barras para cada estado\n",
    "fig.add_trace(go.Bar(x=estados_mais_baixos.index, y=estados_mais_baixos.values, \n",
    "                     text=estados_mais_baixos.values, textposition='outside',\n",
    "                     marker=dict(color='lightcoral')))\n",
    "\n",
    "# Adicionando título e rótulos aos eixos\n",
    "fig.update_layout(title='Estados que Praticaram os Valores Mais Baixos da Gasolina Comum',\n",
    "                  xaxis_title='Estado',\n",
    "                  yaxis_title='Preço Médio de Revenda (R$)')\n",
    "\n",
    "# Exibindo o gráfico\n",
    "fig.show()"
   ]
  },
  {
   "cell_type": "code",
   "execution_count": null,
   "id": "93af4ceb",
   "metadata": {},
   "outputs": [],
   "source": [
    "# Filtrando o DataFrame para incluir apenas a gasolina comum\n",
    "df_gasolina_comum = df[df['PRODUTO'] == 'GASOLINA COMUM']\n",
    "\n",
    "# Calculando a média do preço da gasolina comum no período\n",
    "media_gasolina_comum = df_gasolina_comum['PREÇO MÉDIO REVENDA'].mean()\n",
    "\n",
    "# Filtrando os estados que praticaram valores dentro da média\n",
    "estados_na_media = df_gasolina_comum[df_gasolina_comum['PREÇO MÉDIO REVENDA'] <= media_gasolina_comum]\n",
    "\n",
    "# Criando o gráfico\n",
    "fig = go.Figure()\n",
    "\n",
    "# Adicionando barras para cada estado\n",
    "fig.add_trace(go.Bar(x=estados_na_media['ESTADO'], y=estados_na_media['PREÇO MÉDIO REVENDA'],\n",
    "                     text=estados_na_media['PREÇO MÉDIO REVENDA'], textposition='outside',\n",
    "                     marker=dict(color='lightgreen')))\n",
    "\n",
    "# Adicionando linha da média\n",
    "fig.add_trace(go.Scatter(x=estados_na_media['ESTADO'], y=[media_gasolina_comum]*len(estados_na_media),\n",
    "                         mode='lines', name='Média', line=dict(color='black', dash='dash')))\n",
    "\n",
    "# Adicionando título e rótulos aos eixos\n",
    "fig.update_layout(title='Estados que Praticaram Valores Dentro da Média da Gasolina Comum',\n",
    "                  xaxis_title='Estado',\n",
    "                  yaxis_title='Preço Médio de Revenda (R$)')\n",
    "\n",
    "# Exibindo o gráfico\n",
    "fig.show()"
   ]
  },
  {
   "cell_type": "code",
   "execution_count": null,
   "id": "e1645ced",
   "metadata": {},
   "outputs": [],
   "source": [
    "# Filtrando o DataFrame para incluir apenas a gasolina comum\n",
    "df_gasolina_comum = df[df['PRODUTO'] == 'GASOLINA COMUM']\n",
    "\n",
    "# Filtrando as entradas onde o preço ultrapassou R$ 5,00\n",
    "df_acima_5_reais = df_gasolina_comum[df_gasolina_comum['PREÇO MÉDIO REVENDA'] > 5.0]\n",
    "\n",
    "# Criando um gráfico de linhas para comparar os valores em cada estado\n",
    "fig = go.Figure()\n",
    "\n",
    "for estado in df_acima_5_reais['ESTADO'].unique():\n",
    "    df_estado = df_acima_5_reais[df_acima_5_reais['ESTADO'] == estado]\n",
    "    fig.add_trace(go.Scatter(x=df_estado['DATA INICIAL'], y=df_estado['PREÇO MÉDIO REVENDA'],\n",
    "                             mode='lines',\n",
    "                             name=estado))\n",
    "\n",
    "fig.update_layout(title='Comparativo de Quando a Gasolina Comum Ultrapassou R$ 5,00 em Cada Estado',\n",
    "                  xaxis_title='Data Inicial',\n",
    "                  yaxis_title='Preço Médio de Revenda (R$)')\n",
    "\n",
    "# Exibindo o gráfico\n",
    "fig.show()"
   ]
  },
  {
   "cell_type": "code",
   "execution_count": null,
   "id": "e7c4a4c0",
   "metadata": {},
   "outputs": [],
   "source": [
    "# Filtrando o DataFrame para incluir apenas a gasolina comum\n",
    "df_gasolina_comum = df[df['PRODUTO'] == 'GASOLINA COMUM']\n",
    "\n",
    "# Calculando a média do preço da gasolina comum por estado\n",
    "media_por_estado = df_gasolina_comum.groupby('ESTADO')['PREÇO MÉDIO REVENDA'].mean()\n",
    "\n",
    "# Criando um ranking dos estados com base no preço médio\n",
    "ranking_estados = media_por_estado.sort_values(ascending=False).reset_index()\n",
    "\n",
    "# Adicionando uma coluna de posição no ranking\n",
    "ranking_estados['Posição no Ranking'] = range(1, len(ranking_estados) + 1)\n",
    "\n",
    "# Exibindo o ranking\n",
    "print(ranking_estados)"
   ]
  },
  {
   "cell_type": "code",
   "execution_count": null,
   "id": "c8ea3e5a",
   "metadata": {},
   "outputs": [],
   "source": [
    "# Filtrando o DataFrame para incluir apenas a gasolina comum\n",
    "df_gasolina_comum = df[df['PRODUTO'] == 'GASOLINA COMUM']\n",
    "\n",
    "# Calculando a média do preço de revenda por estado\n",
    "media_por_estado = df_gasolina_comum.groupby('ESTADO')['PREÇO MÉDIO REVENDA'].mean()\n",
    "\n",
    "# Criando um ranking dos estados\n",
    "ranking_estados = media_por_estado.sort_values(ascending=False).reset_index()\n",
    "\n",
    "# Adicionando a coluna 'Posição no Ranking'\n",
    "ranking_estados['Posição no Ranking'] = range(1, len(ranking_estados) + 1)\n",
    "\n",
    "# Verificando a posição do Rio Grande do Sul no ranking\n",
    "posicao_rs = ranking_estados[ranking_estados['ESTADO'] == 'RIO GRANDE DO SUL']['Posição no Ranking'].values[0]\n",
    "\n",
    "# Exibindo a posição do Rio Grande do Sul\n",
    "print(f\"O Rio Grande do Sul está na posição {posicao_rs} no ranking de preços da gasolina comum.\")"
   ]
  },
  {
   "cell_type": "code",
   "execution_count": null,
   "id": "56cca41b",
   "metadata": {},
   "outputs": [],
   "source": [
    "# Filtrando o DataFrame para incluir apenas a gasolina comum\n",
    "df_gasolina_comum = df[df['PRODUTO'] == 'GASOLINA COMUM']\n",
    "\n",
    "# Encontrando o preço médio de revenda na data inicial e final do período\n",
    "preco_inicial = df_gasolina_comum[df_gasolina_comum['DATA INICIAL'] == df_gasolina_comum['DATA INICIAL'].min()]['PREÇO MÉDIO REVENDA'].mean()\n",
    "preco_final = df_gasolina_comum[df_gasolina_comum['DATA FINAL'] == df_gasolina_comum['DATA FINAL'].max()]['PREÇO MÉDIO REVENDA'].mean()\n",
    "\n",
    "# Calculando o percentual de variação\n",
    "percentual_variacao = ((preco_final - preco_inicial) / preco_inicial) * 100\n",
    "\n",
    "# Exibindo o resultado\n",
    "print(f'O percentual de variação do preço da gasolina comum é de {percentual_variacao:.2f}% entre a data inicial e final do período analisado.')"
   ]
  },
  {
   "cell_type": "code",
   "execution_count": null,
   "id": "50ee11a8",
   "metadata": {},
   "outputs": [],
   "source": []
  }
 ],
 "metadata": {
  "kernelspec": {
   "display_name": "Python 3 (ipykernel)",
   "language": "python",
   "name": "python3"
  },
  "language_info": {
   "codemirror_mode": {
    "name": "ipython",
    "version": 3
   },
   "file_extension": ".py",
   "mimetype": "text/x-python",
   "name": "python",
   "nbconvert_exporter": "python",
   "pygments_lexer": "ipython3",
   "version": "3.11.5"
  }
 },
 "nbformat": 4,
 "nbformat_minor": 5
}
